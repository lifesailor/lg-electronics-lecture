{
 "cells": [
  {
   "cell_type": "markdown",
   "metadata": {},
   "source": [
    "## 문제 1. Duplicate Numbers"
   ]
  },
  {
   "cell_type": "markdown",
   "metadata": {},
   "source": [
    "<img style=\"float:left\" src=\"./img/problem_3.png\">"
   ]
  },
  {
   "cell_type": "code",
   "execution_count": 12,
   "metadata": {},
   "outputs": [
    {
     "data": {
      "text/plain": [
       "True"
      ]
     },
     "execution_count": 12,
     "metadata": {},
     "output_type": "execute_result"
    }
   ],
   "source": [
    "def check_number(number):\n",
    "    \"\"\"\n",
    "    This function\n",
    "\n",
    "    :param number:\n",
    "    :return:\n",
    "    \"\"\"\n",
    "    for i in range(10):\n",
    "        if str(number).count(str(i)) == 1:\n",
    "            continue\n",
    "        else:\n",
    "            return False\n",
    "    return True\n",
    "check_number(1234567890)"
   ]
  },
  {
   "cell_type": "code",
   "execution_count": 13,
   "metadata": {},
   "outputs": [
    {
     "name": "stdout",
     "output_type": "stream",
     "text": [
      "Help on function check_number in module __main__:\n",
      "\n",
      "check_number(number)\n",
      "    This function\n",
      "    \n",
      "    :param number:\n",
      "    :return:\n",
      "\n"
     ]
    }
   ],
   "source": [
    "help(check_number)"
   ]
  },
  {
   "cell_type": "markdown",
   "metadata": {},
   "source": [
    "## 문제 2. 모스 부호 해독"
   ]
  },
  {
   "cell_type": "markdown",
   "metadata": {},
   "source": [
    "<img style=\"float:left\" src=\"./img/problem_4.png\">"
   ]
  },
  {
   "cell_type": "code",
   "execution_count": 20,
   "metadata": {},
   "outputs": [
    {
     "data": {
      "text/plain": [
       "['....', '. ... .-.. . . . .--. ... .', '.']"
      ]
     },
     "execution_count": 20,
     "metadata": {},
     "output_type": "execute_result"
    }
   ],
   "source": [
    "in_string = '....  . ... .-.. . . . .--. ... .  .'\n",
    "in_string_split_list = in_string.split('  ')\n",
    "in_string_split_list"
   ]
  },
  {
   "cell_type": "code",
   "execution_count": 21,
   "metadata": {},
   "outputs": [
    {
     "data": {
      "text/plain": [
       "[['....'], ['.', '...', '.-..', '.', '.', '.', '.--.', '...', '.'], ['.']]"
      ]
     },
     "execution_count": 21,
     "metadata": {},
     "output_type": "execute_result"
    }
   ],
   "source": [
    "word_lst = []\n",
    "\n",
    "for element in in_string_split_list:\n",
    "    \n",
    "\n",
    "[n.split(' ') for n in in_string_split_list]"
   ]
  },
  {
   "cell_type": "code",
   "execution_count": null,
   "metadata": {},
   "outputs": [],
   "source": [
    "lst = [n.split(' ') for n in instring.split('  ')]"
   ]
  }
 ],
 "metadata": {
  "kernelspec": {
   "display_name": "Python 3",
   "language": "python",
   "name": "python3"
  },
  "language_info": {
   "codemirror_mode": {
    "name": "ipython",
    "version": 3
   },
   "file_extension": ".py",
   "mimetype": "text/x-python",
   "name": "python",
   "nbconvert_exporter": "python",
   "pygments_lexer": "ipython3",
   "version": "3.6.5"
  }
 },
 "nbformat": 4,
 "nbformat_minor": 2
}
