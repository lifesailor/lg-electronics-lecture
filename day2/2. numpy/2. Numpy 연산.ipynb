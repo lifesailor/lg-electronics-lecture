{
 "cells": [
  {
   "cell_type": "code",
   "execution_count": 21,
   "metadata": {
    "colab": {},
    "colab_type": "code",
    "id": "AQsMXyOxR9WO"
   },
   "outputs": [],
   "source": [
    "import numpy as np"
   ]
  },
  {
   "cell_type": "markdown",
   "metadata": {},
   "source": [
    "# 1. Swapaxes"
   ]
  },
  {
   "cell_type": "code",
   "execution_count": 13,
   "metadata": {},
   "outputs": [],
   "source": [
    "arr = np.arange(24).reshape((2, 3, 4))"
   ]
  },
  {
   "cell_type": "code",
   "execution_count": 20,
   "metadata": {},
   "outputs": [
    {
     "data": {
      "text/plain": [
       "array([[[ 0,  1,  2,  3],\n",
       "        [ 4,  5,  6,  7],\n",
       "        [ 8,  9, 10, 11]],\n",
       "\n",
       "       [[12, 13, 14, 15],\n",
       "        [16, 17, 18, 19],\n",
       "        [20, 21, 22, 23]]])"
      ]
     },
     "execution_count": 20,
     "metadata": {},
     "output_type": "execute_result"
    }
   ],
   "source": [
    "arr"
   ]
  },
  {
   "cell_type": "code",
   "execution_count": 16,
   "metadata": {},
   "outputs": [
    {
     "data": {
      "text/plain": [
       "array([[[ 0,  1],\n",
       "        [ 2,  3],\n",
       "        [ 4,  5]],\n",
       "\n",
       "       [[ 6,  7],\n",
       "        [ 8,  9],\n",
       "        [10, 11]],\n",
       "\n",
       "       [[12, 13],\n",
       "        [14, 15],\n",
       "        [16, 17]],\n",
       "\n",
       "       [[18, 19],\n",
       "        [20, 21],\n",
       "        [22, 23]]])"
      ]
     },
     "execution_count": 16,
     "metadata": {},
     "output_type": "execute_result"
    }
   ],
   "source": [
    "arr.reshape(4, 3, 2)"
   ]
  },
  {
   "cell_type": "code",
   "execution_count": 19,
   "metadata": {},
   "outputs": [
    {
     "data": {
      "text/plain": [
       "array([[[ 0,  4,  8],\n",
       "        [ 1,  5,  9],\n",
       "        [ 2,  6, 10],\n",
       "        [ 3,  7, 11]],\n",
       "\n",
       "       [[12, 16, 20],\n",
       "        [13, 17, 21],\n",
       "        [14, 18, 22],\n",
       "        [15, 19, 23]]])"
      ]
     },
     "execution_count": 19,
     "metadata": {},
     "output_type": "execute_result"
    }
   ],
   "source": [
    "np.swapaxes(arr, axis1=2, axis2=1)"
   ]
  },
  {
   "cell_type": "markdown",
   "metadata": {
    "colab_type": "text",
    "id": "_kOHdUTeR9XA"
   },
   "source": [
    "# 1. Universal 함수"
   ]
  },
  {
   "cell_type": "markdown",
   "metadata": {
    "colab_type": "text",
    "id": "pqu6IRFQR9XG"
   },
   "source": [
    "ufunc라고 불리는 유니버셜 함수는 ndarray 안에 있는 데이터 원소별로 연산을 수행하는 함수이다. 유니버셜 함수는 하나 이상의 스칼라 값을 받아서 하나 이상의 스칼라 결과 값을 반환하는 간단한 함수를 고속으로 수행할 수 있는 백터화된 래퍼 함수라고 생각하면 된다."
   ]
  },
  {
   "cell_type": "code",
   "execution_count": 23,
   "metadata": {
    "colab": {},
    "colab_type": "code",
    "id": "Fwh_hVxUR9XL",
    "outputId": "0f783dd6-6f59-4252-b8fb-4d64a450bb24"
   },
   "outputs": [
    {
     "data": {
      "text/plain": [
       "array([0, 1, 2, 3, 4, 5, 6, 7, 8, 9])"
      ]
     },
     "execution_count": 23,
     "metadata": {},
     "output_type": "execute_result"
    }
   ],
   "source": [
    "arr = np.arange(10)\n",
    "arr"
   ]
  },
  {
   "cell_type": "markdown",
   "metadata": {},
   "source": [
    "###### <span style=\"color:blue\">Example 1</span>"
   ]
  },
  {
   "cell_type": "code",
   "execution_count": 24,
   "metadata": {
    "colab": {},
    "colab_type": "code",
    "id": "6psT0o_BR9Xk",
    "outputId": "e7d2b073-db34-40ad-d52a-f49dec56e5e8"
   },
   "outputs": [
    {
     "data": {
      "text/plain": [
       "array([0.        , 1.        , 1.41421356, 1.73205081, 2.        ,\n",
       "       2.23606798, 2.44948974, 2.64575131, 2.82842712, 3.        ])"
      ]
     },
     "execution_count": 24,
     "metadata": {},
     "output_type": "execute_result"
    }
   ],
   "source": [
    "# square root (sqrt)\n",
    "np.sqrt(arr)"
   ]
  },
  {
   "cell_type": "code",
   "execution_count": 25,
   "metadata": {
    "colab": {},
    "colab_type": "code",
    "id": "TJGU1MOlR9X0",
    "outputId": "fe0068b1-0251-43f7-c3ef-4f0a23ed1942"
   },
   "outputs": [
    {
     "data": {
      "text/plain": [
       "array([1.00000000e+00, 2.71828183e+00, 7.38905610e+00, 2.00855369e+01,\n",
       "       5.45981500e+01, 1.48413159e+02, 4.03428793e+02, 1.09663316e+03,\n",
       "       2.98095799e+03, 8.10308393e+03])"
      ]
     },
     "execution_count": 25,
     "metadata": {},
     "output_type": "execute_result"
    }
   ],
   "source": [
    "# Exponential\n",
    "np.exp(arr)"
   ]
  },
  {
   "cell_type": "code",
   "execution_count": 28,
   "metadata": {
    "colab": {},
    "colab_type": "code",
    "id": "t0jGa2TcR9X9"
   },
   "outputs": [],
   "source": [
    "x = np.random.randn(8)\n",
    "y = np.random.randn(8)"
   ]
  },
  {
   "cell_type": "code",
   "execution_count": 30,
   "metadata": {},
   "outputs": [
    {
     "data": {
      "text/plain": [
       "array([ 0.28636379,  0.36526543,  0.57746448,  0.49475175,  0.45598641,\n",
       "       -0.08985975, -2.60049156,  0.0428598 ])"
      ]
     },
     "execution_count": 30,
     "metadata": {},
     "output_type": "execute_result"
    }
   ],
   "source": [
    "x"
   ]
  },
  {
   "cell_type": "code",
   "execution_count": 31,
   "metadata": {},
   "outputs": [
    {
     "data": {
      "text/plain": [
       "array([-0.50062007, -1.60319095, -0.57306091,  1.60194115,  1.76101137,\n",
       "        0.11087346,  0.55607264,  1.6968578 ])"
      ]
     },
     "execution_count": 31,
     "metadata": {},
     "output_type": "execute_result"
    }
   ],
   "source": [
    "y"
   ]
  },
  {
   "cell_type": "code",
   "execution_count": 33,
   "metadata": {
    "colab": {},
    "colab_type": "code",
    "id": "zwCMysykR9YE",
    "outputId": "41c58781-6f3c-4726-96c7-d8adeace4c10"
   },
   "outputs": [
    {
     "data": {
      "text/plain": [
       "array([0.28636379, 0.36526543, 0.57746448, 1.60194115, 1.76101137,\n",
       "       0.11087346, 0.55607264, 1.6968578 ])"
      ]
     },
     "execution_count": 33,
     "metadata": {},
     "output_type": "execute_result"
    }
   ],
   "source": [
    "# x, y maximum (element wise operation)\n",
    "np.maximum(x, y)"
   ]
  },
  {
   "cell_type": "markdown",
   "metadata": {
    "colab_type": "text",
    "id": "0flAw-9_R9YM"
   },
   "source": [
    "### 단항 유니버셜 함수\n",
    "\n",
    "- abs: 각 원소의 절대값을 구한다.\n",
    "- sqrt: 각 원소의 제곱근을 구한다.\n",
    "- square: 각 원소의 제곱을 구한다.\n",
    "- sign: 각 원소의 부호를 계산한다.\n",
    "- ceil, floor: 각 원소의 소수자리를 올리거나 내린다.\n",
    "- rint: 각 원소의 소수자리를 반올림한다.\n",
    "- sin, cos, tan: 일반 삼각함수\n",
    "- sinh, cosh, tanh: 쌍곡삼각 함수\n",
    "- arccos, arccosh, arcsinh: 역삼각함수"
   ]
  },
  {
   "cell_type": "markdown",
   "metadata": {
    "colab_type": "text",
    "id": "tH1lqCJHR9YO"
   },
   "source": [
    "### 이항 유니버셜 함수"
   ]
  },
  {
   "cell_type": "markdown",
   "metadata": {
    "colab_type": "text",
    "id": "dsSMFsTIR9YR"
   },
   "source": [
    "- add, subtract, multiply: 두 배열에서 같은 위치 원소끼리 더하고, 빼고, 곱한다.\n",
    "- divide: 첫 번째 배열에서 두 번째 배열의 원소를 나눈다.\n",
    "- power: 첫 번째 배열의 원소에 두 번째 배열의 원소만큼 제곱한다.\n",
    "- maximum, minimum: 두 원소 중 큰 값, 작은 값을 반환한다.\n",
    "- mod: 첫 번째 배열의 원소에 두 번째 배열의 원소를 나눈 나머지를 구한다.\n",
    "- greater, less, equal: 각각 두 원소 간의 비교 연산 결과를 불리언 배열로 반환한다.\n",
    "- logical_and, logical_or, logical_xor: 각각 두 원소 간의 논리 연산을 배열로 반환한다."
   ]
  },
  {
   "cell_type": "markdown",
   "metadata": {
    "colab_type": "text",
    "id": "goRYXvUcR9YS"
   },
   "source": [
    "# 2. 배열 연산"
   ]
  },
  {
   "cell_type": "markdown",
   "metadata": {
    "colab_type": "text",
    "id": "ueUzQr_cR9YT"
   },
   "source": [
    "### 1. 조건절 표현하기"
   ]
  },
  {
   "cell_type": "code",
   "execution_count": 34,
   "metadata": {
    "colab": {},
    "colab_type": "code",
    "id": "t8EazDhMR9YV"
   },
   "outputs": [],
   "source": [
    "xarr = np.array([1.1, 1.2, 1.3, 1.4, 1.5])\n",
    "yarr = np.array([2.1, 2.2, 2.3, 2.4, 2.5])\n",
    "cond = np.array([True, False, True, True, False])"
   ]
  },
  {
   "cell_type": "markdown",
   "metadata": {},
   "source": [
    "###### <span style=\"color:blue\">Example 2. </span>"
   ]
  },
  {
   "cell_type": "code",
   "execution_count": 40,
   "metadata": {
    "colab": {},
    "colab_type": "code",
    "id": "DTeaV9urR9Ya"
   },
   "outputs": [],
   "source": [
    "# cond가 True 이면 xarr value, False 이면 yarr value  \n",
    "result = np.where(cond, xarr, yarr)"
   ]
  },
  {
   "cell_type": "code",
   "execution_count": 41,
   "metadata": {
    "colab": {},
    "colab_type": "code",
    "id": "9CSR6fY1R9Yj",
    "outputId": "ffadc075-2011-4011-c6b1-a133419602fe"
   },
   "outputs": [
    {
     "data": {
      "text/plain": [
       "array([1.1, 2.2, 1.3, 1.4, 2.5])"
      ]
     },
     "execution_count": 41,
     "metadata": {},
     "output_type": "execute_result"
    }
   ],
   "source": [
    "result"
   ]
  },
  {
   "cell_type": "code",
   "execution_count": 42,
   "metadata": {
    "colab": {},
    "colab_type": "code",
    "id": "7ztmiDHZR9Ys",
    "outputId": "12367943-90bd-4096-f0cf-2cf24ba995be"
   },
   "outputs": [
    {
     "data": {
      "text/plain": [
       "array([[-1.15475695, -1.03813181,  0.49781654,  0.69354848],\n",
       "       [ 0.71393681, -0.10228161, -0.1038017 ,  0.29087965],\n",
       "       [ 0.67607682,  0.91381831, -0.46189917,  1.71057972],\n",
       "       [-0.05669396,  0.67787833, -1.07706583, -0.71196781]])"
      ]
     },
     "execution_count": 42,
     "metadata": {},
     "output_type": "execute_result"
    }
   ],
   "source": [
    "arr = np.random.randn(4, 4)\n",
    "arr"
   ]
  },
  {
   "cell_type": "code",
   "execution_count": 44,
   "metadata": {
    "colab": {},
    "colab_type": "code",
    "id": "FixOcw_pR9Y3",
    "outputId": "13b86e6a-05de-4984-f999-64454999bcce"
   },
   "outputs": [
    {
     "data": {
      "text/plain": [
       "array([[-2, -2,  2,  2],\n",
       "       [ 2, -2, -2,  2],\n",
       "       [ 2,  2, -2,  2],\n",
       "       [-2,  2, -2, -2]])"
      ]
     },
     "execution_count": 44,
     "metadata": {},
     "output_type": "execute_result"
    }
   ],
   "source": [
    "# arr가 0보다 크면 2, 작으면 -2 \n",
    "np.where(arr > 0, 2, -2)"
   ]
  },
  {
   "cell_type": "markdown",
   "metadata": {
    "colab_type": "text",
    "id": "LlmJ6rS8R9ZB"
   },
   "source": [
    "### 2. 수학 메서드와 통계 메서드"
   ]
  },
  {
   "cell_type": "markdown",
   "metadata": {
    "colab_type": "text",
    "id": "92gV1gUER9ZC"
   },
   "source": [
    "배열 전체 혹은 배열에서 한 축에 따르는 자료에 대한 통계를 계산하기 위한 수학 함수는 배열 메서드로 사용할 수 있다. 전체의 합이나 평균, 표준편차는 Numpy의 최상위 함수를 이용하거나, 배열의 인스턴스 메서드를 사용해서 구할 수 있다."
   ]
  },
  {
   "cell_type": "code",
   "execution_count": 45,
   "metadata": {
    "colab": {},
    "colab_type": "code",
    "id": "ohJf7Ta7R9ZE",
    "outputId": "893c575a-1ddb-43e5-ba12-962281b35bb9"
   },
   "outputs": [
    {
     "data": {
      "text/plain": [
       "array([[0.87846561, 0.87071438, 0.98178078, 0.33338742],\n",
       "       [0.36579345, 0.56953929, 0.89249636, 0.88876875],\n",
       "       [0.80534257, 0.7127981 , 0.44933907, 0.28787047],\n",
       "       [0.93948483, 0.58965736, 0.09588624, 0.14842608],\n",
       "       [0.32195149, 0.85338679, 0.78529503, 0.10125597]])"
      ]
     },
     "execution_count": 45,
     "metadata": {},
     "output_type": "execute_result"
    }
   ],
   "source": [
    "arr = np.random.rand(5, 4)\n",
    "arr"
   ]
  },
  {
   "cell_type": "code",
   "execution_count": 48,
   "metadata": {
    "colab": {},
    "colab_type": "code",
    "id": "zfnD8HrqR9ZJ",
    "outputId": "d20240b6-ccb8-4a05-cc4a-4b804d8b780c"
   },
   "outputs": [
    {
     "data": {
      "text/plain": [
       "0.5935820018239027"
      ]
     },
     "execution_count": 48,
     "metadata": {},
     "output_type": "execute_result"
    }
   ],
   "source": [
    "arr.mean()"
   ]
  },
  {
   "cell_type": "code",
   "execution_count": 47,
   "metadata": {
    "colab": {},
    "colab_type": "code",
    "id": "urtkCymHR9ZU",
    "outputId": "eeed39a7-80d8-4c17-eaee-a7ecdb995740"
   },
   "outputs": [
    {
     "data": {
      "text/plain": [
       "0.5935820018239027"
      ]
     },
     "execution_count": 47,
     "metadata": {},
     "output_type": "execute_result"
    }
   ],
   "source": [
    "np.mean(arr)"
   ]
  },
  {
   "cell_type": "markdown",
   "metadata": {
    "colab_type": "text",
    "id": "N713d1yiR9ZZ"
   },
   "source": [
    "- mean이나 sum 같은 함수는 선택적으로 axis 인자를 받아 해당 axis에 대한 통계를 계산하고 차수 낮은 배열을 반환한다."
   ]
  },
  {
   "cell_type": "code",
   "execution_count": 49,
   "metadata": {},
   "outputs": [
    {
     "data": {
      "text/plain": [
       "0.2970337778478546"
      ]
     },
     "execution_count": 49,
     "metadata": {},
     "output_type": "execute_result"
    }
   ],
   "source": [
    "np.std(arr)"
   ]
  },
  {
   "cell_type": "markdown",
   "metadata": {},
   "source": [
    "###### <span style=\"color:blue\">Example 3</span>"
   ]
  },
  {
   "cell_type": "code",
   "execution_count": 50,
   "metadata": {
    "colab": {},
    "colab_type": "code",
    "id": "6sToMvVdR9Zc",
    "outputId": "ada2e3a9-dcd8-4b0e-986a-58c7f0f61b91"
   },
   "outputs": [
    {
     "data": {
      "text/plain": [
       "11.871640036478055"
      ]
     },
     "execution_count": 50,
     "metadata": {},
     "output_type": "execute_result"
    }
   ],
   "source": [
    "# arr 전체 합\n",
    "np.sum(arr)"
   ]
  },
  {
   "cell_type": "code",
   "execution_count": 51,
   "metadata": {},
   "outputs": [
    {
     "data": {
      "text/plain": [
       "0.5935820018239027"
      ]
     },
     "execution_count": 51,
     "metadata": {},
     "output_type": "execute_result"
    }
   ],
   "source": [
    "# arr 전체 평균\n",
    "np.mean(arr)"
   ]
  },
  {
   "cell_type": "code",
   "execution_count": 53,
   "metadata": {},
   "outputs": [
    {
     "name": "stdout",
     "output_type": "stream",
     "text": [
      "(3, 5)\n"
     ]
    }
   ],
   "source": [
    "arr = np.array([[0,1,2,2,2],[3,4,5,5,5],[6,7,8,8,8]])\n",
    "print(arr.shape)"
   ]
  },
  {
   "cell_type": "code",
   "execution_count": 55,
   "metadata": {},
   "outputs": [
    {
     "data": {
      "text/plain": [
       "(3, 5)"
      ]
     },
     "execution_count": 55,
     "metadata": {},
     "output_type": "execute_result"
    }
   ],
   "source": [
    "arr.shape"
   ]
  },
  {
   "cell_type": "code",
   "execution_count": 56,
   "metadata": {},
   "outputs": [
    {
     "data": {
      "text/plain": [
       "array([1.4, 4.4, 7.4])"
      ]
     },
     "execution_count": 56,
     "metadata": {},
     "output_type": "execute_result"
    }
   ],
   "source": [
    "# axis1 기준으로 평균\n",
    "np.mean(arr, axis=1)"
   ]
  },
  {
   "cell_type": "code",
   "execution_count": 57,
   "metadata": {
    "colab": {},
    "colab_type": "code",
    "id": "wzV-DubwR9Zp",
    "outputId": "5494b381-9571-4b5b-cd6d-f77310847ccc"
   },
   "outputs": [
    {
     "data": {
      "text/plain": [
       "array([3., 4., 5., 5., 5.])"
      ]
     },
     "execution_count": 57,
     "metadata": {},
     "output_type": "execute_result"
    }
   ],
   "source": [
    "# axis0 기준으로 합\n",
    "np.mean(arr, axis=0)"
   ]
  },
  {
   "cell_type": "code",
   "execution_count": 59,
   "metadata": {
    "colab": {},
    "colab_type": "code",
    "id": "7X24Nw-jR9Zv"
   },
   "outputs": [
    {
     "data": {
      "text/plain": [
       "array([[0, 1, 2],\n",
       "       [3, 4, 5],\n",
       "       [6, 7, 8]])"
      ]
     },
     "execution_count": 59,
     "metadata": {},
     "output_type": "execute_result"
    }
   ],
   "source": [
    "arr = np.array([[0,1,2],[3,4,5],[6,7,8]])\n",
    "arr"
   ]
  },
  {
   "cell_type": "code",
   "execution_count": 62,
   "metadata": {},
   "outputs": [
    {
     "data": {
      "text/plain": [
       "array([[ 0,  1,  2],\n",
       "       [ 3,  5,  7],\n",
       "       [ 9, 12, 15]])"
      ]
     },
     "execution_count": 62,
     "metadata": {},
     "output_type": "execute_result"
    }
   ],
   "source": [
    "# axis0 기준 누적합(cumprod)\n",
    "np.cumsum(arr, axis=0)"
   ]
  },
  {
   "cell_type": "code",
   "execution_count": 64,
   "metadata": {},
   "outputs": [
    {
     "data": {
      "text/plain": [
       "array([[  0,   0,   0],\n",
       "       [  3,  12,  60],\n",
       "       [  6,  42, 336]])"
      ]
     },
     "execution_count": 64,
     "metadata": {},
     "output_type": "execute_result"
    }
   ],
   "source": [
    "# axis1 기준 누적곱(cumprod)\n",
    "np.cumprod(arr, axis=1)"
   ]
  },
  {
   "cell_type": "markdown",
   "metadata": {
    "colab_type": "text",
    "id": "lUrKzT9IR9aB"
   },
   "source": [
    "### 3. 정렬"
   ]
  },
  {
   "cell_type": "markdown",
   "metadata": {
    "colab_type": "text",
    "id": "6UnZvgoiR9aC"
   },
   "source": [
    "- np.sort 메서드는 배열을 직접 변경하지 않고 정렬된 결과를 가지고 있는 복사본을 반환한다."
   ]
  },
  {
   "cell_type": "code",
   "execution_count": 66,
   "metadata": {
    "colab": {},
    "colab_type": "code",
    "id": "PUfIsvu1R9aF",
    "outputId": "367d083f-2437-40c4-8475-02f1cac9d55f"
   },
   "outputs": [
    {
     "data": {
      "text/plain": [
       "array([-2.26987731,  0.67086255, -1.23433134, -0.61944314, -1.15267474,\n",
       "       -0.2042295 ,  1.33981148, -0.75681379])"
      ]
     },
     "execution_count": 66,
     "metadata": {},
     "output_type": "execute_result"
    }
   ],
   "source": [
    "arr = np.random.randn(8)\n",
    "arr"
   ]
  },
  {
   "cell_type": "code",
   "execution_count": 67,
   "metadata": {
    "colab": {},
    "colab_type": "code",
    "id": "hxAF-9VBR9aL",
    "outputId": "b6534d03-5bd1-4530-c2d9-a3529f8df507"
   },
   "outputs": [
    {
     "data": {
      "text/plain": [
       "array([-2.26987731, -1.23433134, -1.15267474, -0.75681379, -0.61944314,\n",
       "       -0.2042295 ,  0.67086255,  1.33981148])"
      ]
     },
     "execution_count": 67,
     "metadata": {},
     "output_type": "execute_result"
    }
   ],
   "source": [
    "arr.sort()\n",
    "arr"
   ]
  },
  {
   "cell_type": "code",
   "execution_count": 68,
   "metadata": {
    "colab": {},
    "colab_type": "code",
    "id": "s63ZmykrR9aQ",
    "outputId": "4d657394-d0b8-4607-f427-836fd23f170a"
   },
   "outputs": [
    {
     "data": {
      "text/plain": [
       "array([[-1.54181795, -0.17642221, -1.55584111],\n",
       "       [-1.30516761, -1.03192205,  0.80154251],\n",
       "       [-1.57557649,  1.95491416,  0.21125343],\n",
       "       [ 0.03663373, -0.13802918,  1.28372202],\n",
       "       [ 0.57230006, -0.74266414,  1.08899714]])"
      ]
     },
     "execution_count": 68,
     "metadata": {},
     "output_type": "execute_result"
    }
   ],
   "source": [
    "arr = np.random.randn(5, 3)\n",
    "arr"
   ]
  },
  {
   "cell_type": "code",
   "execution_count": 69,
   "metadata": {
    "colab": {},
    "colab_type": "code",
    "id": "3oxnsvGuR9aY",
    "outputId": "d4c6f68d-980a-4037-8db3-52c9dc205a1e"
   },
   "outputs": [
    {
     "data": {
      "text/plain": [
       "array([[-1.55584111, -1.54181795, -0.17642221],\n",
       "       [-1.30516761, -1.03192205,  0.80154251],\n",
       "       [-1.57557649,  0.21125343,  1.95491416],\n",
       "       [-0.13802918,  0.03663373,  1.28372202],\n",
       "       [-0.74266414,  0.57230006,  1.08899714]])"
      ]
     },
     "execution_count": 69,
     "metadata": {},
     "output_type": "execute_result"
    }
   ],
   "source": [
    "arr.sort(axis=1)\n",
    "arr"
   ]
  },
  {
   "cell_type": "code",
   "execution_count": 71,
   "metadata": {},
   "outputs": [
    {
     "data": {
      "text/plain": [
       "array([[-1.57557649, -1.54181795, -0.17642221],\n",
       "       [-1.55584111, -1.03192205,  0.80154251],\n",
       "       [-1.30516761,  0.03663373,  1.08899714],\n",
       "       [-0.74266414,  0.21125343,  1.28372202],\n",
       "       [-0.13802918,  0.57230006,  1.95491416]])"
      ]
     },
     "execution_count": 71,
     "metadata": {},
     "output_type": "execute_result"
    }
   ],
   "source": [
    "arr.sort(axis=0)\n",
    "arr"
   ]
  },
  {
   "cell_type": "markdown",
   "metadata": {
    "colab_type": "text",
    "id": "9RZoS5nJR9ad"
   },
   "source": [
    "## 3. 선형대수"
   ]
  },
  {
   "cell_type": "markdown",
   "metadata": {
    "colab_type": "text",
    "id": "LsxkeJoiR9ae"
   },
   "source": [
    "### 내적은 중요하다."
   ]
  },
  {
   "cell_type": "code",
   "execution_count": 72,
   "metadata": {
    "colab": {},
    "colab_type": "code",
    "id": "aE572FBzR9af"
   },
   "outputs": [],
   "source": [
    "x = np.array([[1.,2.,3.], [4.,5.,6.]])\n",
    "y = np.array([[6.,23.], [-1, 7], [8, 9]])"
   ]
  },
  {
   "cell_type": "code",
   "execution_count": 73,
   "metadata": {},
   "outputs": [
    {
     "name": "stdout",
     "output_type": "stream",
     "text": [
      "(2, 3)\n"
     ]
    },
    {
     "data": {
      "text/plain": [
       "array([[1., 2., 3.],\n",
       "       [4., 5., 6.]])"
      ]
     },
     "execution_count": 73,
     "metadata": {},
     "output_type": "execute_result"
    }
   ],
   "source": [
    "print(x.shape)\n",
    "x"
   ]
  },
  {
   "cell_type": "code",
   "execution_count": 74,
   "metadata": {},
   "outputs": [
    {
     "name": "stdout",
     "output_type": "stream",
     "text": [
      "(3, 2)\n"
     ]
    },
    {
     "data": {
      "text/plain": [
       "array([[ 6., 23.],\n",
       "       [-1.,  7.],\n",
       "       [ 8.,  9.]])"
      ]
     },
     "execution_count": 74,
     "metadata": {},
     "output_type": "execute_result"
    }
   ],
   "source": [
    "print(y.shape)\n",
    "y"
   ]
  },
  {
   "cell_type": "markdown",
   "metadata": {},
   "source": [
    "###### <span style=\"color:blue\">Example 4</span>"
   ]
  },
  {
   "cell_type": "code",
   "execution_count": 76,
   "metadata": {
    "colab": {},
    "colab_type": "code",
    "id": "--So6D2AR9ak",
    "outputId": "87735ef4-97ef-4075-c480-668b0865b0ec"
   },
   "outputs": [
    {
     "data": {
      "text/plain": [
       "array([[ 28.,  64.],\n",
       "       [ 67., 181.]])"
      ]
     },
     "execution_count": 76,
     "metadata": {},
     "output_type": "execute_result"
    }
   ],
   "source": [
    "# x, y dot product \n",
    "x.dot(y)"
   ]
  },
  {
   "cell_type": "code",
   "execution_count": 77,
   "metadata": {
    "colab": {},
    "colab_type": "code",
    "id": "dCcBpcr4R9ar"
   },
   "outputs": [],
   "source": [
    "from numpy.linalg import inv"
   ]
  },
  {
   "cell_type": "code",
   "execution_count": 78,
   "metadata": {
    "colab": {},
    "colab_type": "code",
    "id": "QRMzm56wR9av"
   },
   "outputs": [
    {
     "data": {
      "text/plain": [
       "array([[-0.76168416, -0.10176857, -0.05331547, -0.13998977, -0.60070199],\n",
       "       [-0.38431146,  0.45877288, -0.60391685,  0.21759434, -0.61197526],\n",
       "       [ 1.35614832,  1.35808586, -0.56034699,  0.35514587,  1.57751471],\n",
       "       [-0.20475524,  0.32472009, -1.85664107,  0.05470124, -1.44136566],\n",
       "       [-0.84006592, -0.73592574,  0.89462997, -0.51479285, -1.10321439]])"
      ]
     },
     "execution_count": 78,
     "metadata": {},
     "output_type": "execute_result"
    }
   ],
   "source": [
    "X = np.random.randn(5, 5)\n",
    "X"
   ]
  },
  {
   "cell_type": "code",
   "execution_count": 80,
   "metadata": {
    "colab": {},
    "colab_type": "code",
    "id": "oIuLL9YJR9a3"
   },
   "outputs": [
    {
     "data": {
      "text/plain": [
       "array([[ 3.31463178,  2.29470769, -0.85860309,  0.92589402,  4.05397821],\n",
       "       [ 2.29470769,  2.71225642, -2.29390402,  0.99300342,  2.26661883],\n",
       "       [-0.85860309, -2.29390402,  4.92902567, -0.88505987,  1.20678328],\n",
       "       [ 0.92589402,  0.99300342, -0.88505987,  0.46107692,  1.00025999],\n",
       "       [ 4.05397821,  2.26661883,  1.20678328,  1.00025999,  6.51852624]])"
      ]
     },
     "execution_count": 80,
     "metadata": {},
     "output_type": "execute_result"
    }
   ],
   "source": [
    "# mat = X.T와 X의 내적\n",
    "X.T.dot(X)"
   ]
  },
  {
   "cell_type": "code",
   "execution_count": 81,
   "metadata": {
    "colab": {},
    "colab_type": "code",
    "id": "eKmL5yE0R9a6",
    "outputId": "410d82bb-7115-4801-b22f-1f501685df5d"
   },
   "outputs": [
    {
     "data": {
      "text/plain": [
       "array([[-2.16667839,  0.19638484,  0.11693341,  0.34340587,  0.78936253],\n",
       "       [ 0.35037465,  0.87702557,  1.02319327, -0.13838017,  0.96660283],\n",
       "       [-1.16148655,  1.13328497,  0.08665747, -0.51456441,  0.79997491],\n",
       "       [-2.79161953,  2.92232016, -1.59258856, -0.94242939, -1.14701437],\n",
       "       [ 1.7769058 , -1.17920935,  0.04183552, -0.14669395, -0.9683595 ]])"
      ]
     },
     "execution_count": 81,
     "metadata": {},
     "output_type": "execute_result"
    }
   ],
   "source": [
    "# mat의 역행렬\n",
    "inv(X)"
   ]
  },
  {
   "cell_type": "markdown",
   "metadata": {},
   "source": [
    "# Axis"
   ]
  },
  {
   "cell_type": "code",
   "execution_count": 82,
   "metadata": {},
   "outputs": [],
   "source": [
    "arr = np.arange(4*3*2*3).reshape(4,3,2,3)"
   ]
  },
  {
   "cell_type": "code",
   "execution_count": 84,
   "metadata": {},
   "outputs": [
    {
     "data": {
      "text/plain": [
       "(4, 3, 2, 3)"
      ]
     },
     "execution_count": 84,
     "metadata": {},
     "output_type": "execute_result"
    }
   ],
   "source": [
    "arr.shape"
   ]
  },
  {
   "cell_type": "code",
   "execution_count": 86,
   "metadata": {},
   "outputs": [
    {
     "data": {
      "text/plain": [
       "(3, 2, 3)"
      ]
     },
     "execution_count": 86,
     "metadata": {},
     "output_type": "execute_result"
    }
   ],
   "source": [
    "arr.mean(axis=0).shape"
   ]
  },
  {
   "cell_type": "code",
   "execution_count": 87,
   "metadata": {},
   "outputs": [
    {
     "data": {
      "text/plain": [
       "(4, 2, 3)"
      ]
     },
     "execution_count": 87,
     "metadata": {},
     "output_type": "execute_result"
    }
   ],
   "source": [
    "arr.mean(axis=1).shape"
   ]
  },
  {
   "cell_type": "code",
   "execution_count": 88,
   "metadata": {},
   "outputs": [
    {
     "data": {
      "text/plain": [
       "(4, 3, 3)"
      ]
     },
     "execution_count": 88,
     "metadata": {},
     "output_type": "execute_result"
    }
   ],
   "source": [
    "arr.mean(axis=2).shape"
   ]
  },
  {
   "cell_type": "code",
   "execution_count": 89,
   "metadata": {},
   "outputs": [
    {
     "data": {
      "text/plain": [
       "(4, 3, 2)"
      ]
     },
     "execution_count": 89,
     "metadata": {},
     "output_type": "execute_result"
    }
   ],
   "source": [
    "arr.mean(axis=3).shape"
   ]
  },
  {
   "cell_type": "code",
   "execution_count": 90,
   "metadata": {},
   "outputs": [
    {
     "data": {
      "text/plain": [
       "(4, 3, 2)"
      ]
     },
     "execution_count": 90,
     "metadata": {},
     "output_type": "execute_result"
    }
   ],
   "source": [
    "arr.mean(axis=-1).shape"
   ]
  },
  {
   "cell_type": "markdown",
   "metadata": {},
   "source": [
    "## Sort"
   ]
  },
  {
   "cell_type": "code",
   "execution_count": 99,
   "metadata": {},
   "outputs": [
    {
     "data": {
      "text/plain": [
       "array([[[ 1.0479796 ,  0.32160389],\n",
       "        [ 0.0272431 , -0.67855448],\n",
       "        [-1.3371566 ,  0.80446546]],\n",
       "\n",
       "       [[ 0.60658092, -0.43662668],\n",
       "        [ 1.20295195, -0.49992059],\n",
       "        [ 0.37571249,  0.65806016]]])"
      ]
     },
     "execution_count": 99,
     "metadata": {},
     "output_type": "execute_result"
    }
   ],
   "source": [
    "arr2 = np.random.randn(2,3,2)\n",
    "arr2"
   ]
  },
  {
   "cell_type": "code",
   "execution_count": 102,
   "metadata": {},
   "outputs": [
    {
     "data": {
      "text/plain": [
       "array([[[ 0.60658092, -0.43662668],\n",
       "        [ 0.0272431 , -0.67855448],\n",
       "        [-1.3371566 ,  0.65806016]],\n",
       "\n",
       "       [[ 1.0479796 ,  0.32160389],\n",
       "        [ 1.20295195, -0.49992059],\n",
       "        [ 0.37571249,  0.80446546]]])"
      ]
     },
     "execution_count": 102,
     "metadata": {},
     "output_type": "execute_result"
    }
   ],
   "source": [
    "arr2.sort(axis=0)\n",
    "arr2"
   ]
  },
  {
   "cell_type": "code",
   "execution_count": 103,
   "metadata": {},
   "outputs": [
    {
     "data": {
      "text/plain": [
       "array([[[-1.3371566 , -0.67855448],\n",
       "        [ 0.0272431 , -0.43662668],\n",
       "        [ 0.60658092,  0.65806016]],\n",
       "\n",
       "       [[ 0.37571249, -0.49992059],\n",
       "        [ 1.0479796 ,  0.32160389],\n",
       "        [ 1.20295195,  0.80446546]]])"
      ]
     },
     "execution_count": 103,
     "metadata": {},
     "output_type": "execute_result"
    }
   ],
   "source": [
    "arr2.sort(axis=1)\n",
    "arr2"
   ]
  },
  {
   "cell_type": "code",
   "execution_count": 104,
   "metadata": {},
   "outputs": [
    {
     "data": {
      "text/plain": [
       "array([[[-1.3371566 , -0.67855448],\n",
       "        [-0.43662668,  0.0272431 ],\n",
       "        [ 0.60658092,  0.65806016]],\n",
       "\n",
       "       [[-0.49992059,  0.37571249],\n",
       "        [ 0.32160389,  1.0479796 ],\n",
       "        [ 0.80446546,  1.20295195]]])"
      ]
     },
     "execution_count": 104,
     "metadata": {},
     "output_type": "execute_result"
    }
   ],
   "source": [
    "arr2.sort(axis=2)\n",
    "arr2"
   ]
  },
  {
   "cell_type": "code",
   "execution_count": 105,
   "metadata": {},
   "outputs": [
    {
     "name": "stdout",
     "output_type": "stream",
     "text": [
      "Help on built-in function sort:\n",
      "\n",
      "sort(...) method of numpy.ndarray instance\n",
      "    a.sort(axis=-1, kind='quicksort', order=None)\n",
      "    \n",
      "    Sort an array, in-place.\n",
      "    \n",
      "    Parameters\n",
      "    ----------\n",
      "    axis : int, optional\n",
      "        Axis along which to sort. Default is -1, which means sort along the\n",
      "        last axis.\n",
      "    kind : {'quicksort', 'mergesort', 'heapsort', 'stable'}, optional\n",
      "        Sorting algorithm. Default is 'quicksort'.\n",
      "    order : str or list of str, optional\n",
      "        When `a` is an array with fields defined, this argument specifies\n",
      "        which fields to compare first, second, etc.  A single field can\n",
      "        be specified as a string, and not all fields need be specified,\n",
      "        but unspecified fields will still be used, in the order in which\n",
      "        they come up in the dtype, to break ties.\n",
      "    \n",
      "    See Also\n",
      "    --------\n",
      "    numpy.sort : Return a sorted copy of an array.\n",
      "    argsort : Indirect sort.\n",
      "    lexsort : Indirect stable sort on multiple keys.\n",
      "    searchsorted : Find elements in sorted array.\n",
      "    partition: Partial sort.\n",
      "    \n",
      "    Notes\n",
      "    -----\n",
      "    See ``sort`` for notes on the different sorting algorithms.\n",
      "    \n",
      "    Examples\n",
      "    --------\n",
      "    >>> a = np.array([[1,4], [3,1]])\n",
      "    >>> a.sort(axis=1)\n",
      "    >>> a\n",
      "    array([[1, 4],\n",
      "           [1, 3]])\n",
      "    >>> a.sort(axis=0)\n",
      "    >>> a\n",
      "    array([[1, 3],\n",
      "           [1, 4]])\n",
      "    \n",
      "    Use the `order` keyword to specify a field to use when sorting a\n",
      "    structured array:\n",
      "    \n",
      "    >>> a = np.array([('a', 2), ('c', 1)], dtype=[('x', 'S1'), ('y', int)])\n",
      "    >>> a.sort(order='y')\n",
      "    >>> a\n",
      "    array([('c', 1), ('a', 2)],\n",
      "          dtype=[('x', '|S1'), ('y', '<i4')])\n",
      "\n"
     ]
    }
   ],
   "source": [
    "help(arr2.sort)"
   ]
  },
  {
   "cell_type": "code",
   "execution_count": null,
   "metadata": {},
   "outputs": [],
   "source": []
  }
 ],
 "metadata": {
  "colab": {
   "name": "Part 3-2. Numpy 연산.ipynb",
   "provenance": [],
   "version": "0.3.2"
  },
  "kernelspec": {
   "display_name": "Python 3",
   "language": "python",
   "name": "python3"
  },
  "language_info": {
   "codemirror_mode": {
    "name": "ipython",
    "version": 3
   },
   "file_extension": ".py",
   "mimetype": "text/x-python",
   "name": "python",
   "nbconvert_exporter": "python",
   "pygments_lexer": "ipython3",
   "version": "3.6.6"
  }
 },
 "nbformat": 4,
 "nbformat_minor": 1
}
